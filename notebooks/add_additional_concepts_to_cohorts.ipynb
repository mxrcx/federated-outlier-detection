{
 "cells": [
  {
   "cell_type": "markdown",
   "metadata": {},
   "source": [
    "# NB 2 - Add additional concepts from raw eICU data to parquet files (static data)"
   ]
  },
  {
   "cell_type": "code",
   "execution_count": null,
   "metadata": {},
   "outputs": [],
   "source": [
    "import os\n",
    "import shutil\n",
    "\n",
    "import pandas as pd\n",
    "from pyarrow import parquet as pq"
   ]
  },
  {
   "cell_type": "markdown",
   "metadata": {},
   "source": [
    "# Initital configuration"
   ]
  },
  {
   "cell_type": "markdown",
   "metadata": {},
   "source": [
    "This notebook assumes that the raw eICU `.csv` files are available in the `data/raw/eICU` directory and that the cohort `.parquet` files are available in `data/cohorts/sepsis_eicu_robin`."
   ]
  },
  {
   "cell_type": "code",
   "execution_count": null,
   "metadata": {},
   "outputs": [],
   "source": [
    "path_to_raw_eicu_data = \"../data/raw/eICU\"\n",
    "path_to_cohorts = \"../data/cohorts/sepsis_eicu_robin\"\n",
    "\n",
    "# Output path\n",
    "path_to_extended_cohorts = \"../data/cohorts/sepsis_eicu_extended\""
   ]
  },
  {
   "cell_type": "markdown",
   "metadata": {},
   "source": [
    "# Merge stayid of cohort with patientunitstayid in raw eICU and include 'ethnicity', 'hospitalID', 'unitType', 'hospitalAdmitOffset', 'uniquepid'"
   ]
  },
  {
   "cell_type": "code",
   "execution_count": null,
   "metadata": {},
   "outputs": [],
   "source": [
    "eICU_raw_patient_data = pd.read_csv(os.path.join(path_to_raw_eicu_data, \"patient.csv\"))\n",
    "eICU_cohort_concept_data = pq.read_table(os.path.join(path_to_cohorts, \"sta.parquet\")).to_pandas()"
   ]
  },
  {
   "cell_type": "code",
   "execution_count": null,
   "metadata": {},
   "outputs": [],
   "source": [
    "merged_data = pd.merge(left = eICU_cohort_concept_data, right=eICU_raw_patient_data.loc[:, ['patientunitstayid', 'ethnicity', 'hospitalid', 'unittype', 'hospitaladmitoffset', 'uniquepid']], left_on=\"stay_id\", right_on = \"patientunitstayid\", how=\"inner\")\n",
    "merged_data = merged_data.drop(columns=['patientunitstayid'])"
   ]
  },
  {
   "cell_type": "code",
   "execution_count": null,
   "metadata": {},
   "outputs": [],
   "source": [
    "print (f\"The shape of the raw eICU patient table is: {eICU_raw_patient_data.shape}\")\n",
    "print (f\"The shape of the cohort concept data is: {eICU_cohort_concept_data.shape}\")\n",
    "print (f\"The shape of the merged data is {merged_data.shape}\")\n",
    "merged_data"
   ]
  },
  {
   "cell_type": "markdown",
   "metadata": {},
   "source": [
    "# Save merged data with extended columns to parquet file"
   ]
  },
  {
   "cell_type": "code",
   "execution_count": null,
   "metadata": {},
   "outputs": [],
   "source": [
    "\n",
    "if(not os.path.exists(path_to_extended_cohorts)):\n",
    "    os.makedirs(path_to_extended_cohorts)\n",
    "merged_data.to_parquet(os.path.join(path_to_extended_cohorts, \"sta.parquet\"))"
   ]
  },
  {
   "cell_type": "markdown",
   "metadata": {},
   "source": [
    "# Copy unmodified cohort files to the extended cohorts folder"
   ]
  },
  {
   "cell_type": "code",
   "execution_count": null,
   "metadata": {},
   "outputs": [],
   "source": [
    "# Copy unmodified dyn.parquet to the extended cohorts folder\n",
    "source_path_dyn = os.path.join(path_to_cohorts, \"dyn.parquet\")\n",
    "destination_path_dyn = os.path.join(path_to_extended_cohorts, \"dyn.parquet\")\n",
    "shutil.copyfile(source_path_dyn, destination_path_dyn)\n"
   ]
  },
  {
   "cell_type": "code",
   "execution_count": null,
   "metadata": {},
   "outputs": [],
   "source": [
    "# Copy unmodified out.parquet to the extended cohorts folder\n",
    "source_path_out = os.path.join(path_to_cohorts, \"out.parquet\")\n",
    "destination_path_out = os.path.join(path_to_extended_cohorts, \"out.parquet\")\n",
    "shutil.copyfile(source_path_out, destination_path_out)"
   ]
  }
 ],
 "metadata": {
  "kernelspec": {
   "display_name": "fedout-det",
   "language": "python",
   "name": "python3"
  },
  "language_info": {
   "codemirror_mode": {
    "name": "ipython",
    "version": 3
   },
   "file_extension": ".py",
   "mimetype": "text/x-python",
   "name": "python",
   "nbconvert_exporter": "python",
   "pygments_lexer": "ipython3",
   "version": "3.10.13"
  }
 },
 "nbformat": 4,
 "nbformat_minor": 2
}
