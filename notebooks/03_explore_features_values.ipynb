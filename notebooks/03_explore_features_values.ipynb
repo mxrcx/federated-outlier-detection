{
 "cells": [
  {
   "cell_type": "markdown",
   "metadata": {},
   "source": [
    "# Explore features value distribution & missingness"
   ]
  },
  {
   "cell_type": "code",
   "execution_count": null,
   "metadata": {},
   "outputs": [],
   "source": [
    "import os\n",
    "\n",
    "import pandas as pd\n",
    "from pyarrow import parquet as pq\n",
    "\n",
    "import matplotlib.pyplot as plt\n",
    "import seaborn as sns"
   ]
  },
  {
   "cell_type": "markdown",
   "metadata": {},
   "source": [
    "# Initial configuration"
   ]
  },
  {
   "cell_type": "markdown",
   "metadata": {},
   "source": [
    "This notebook assumes that the `features.parquet` cohort data file is available in `data/processed/features.parquet`."
   ]
  },
  {
   "cell_type": "code",
   "execution_count": null,
   "metadata": {},
   "outputs": [],
   "source": [
    "path_to_data = \"../data/processed\""
   ]
  },
  {
   "cell_type": "markdown",
   "metadata": {},
   "source": [
    "# Load cohort data"
   ]
  },
  {
   "cell_type": "code",
   "execution_count": null,
   "metadata": {},
   "outputs": [],
   "source": [
    "sepsis_cohort_features = pq.read_table(os.path.join(path_to_data, \"features.parquet\")).to_pandas()"
   ]
  },
  {
   "cell_type": "markdown",
   "metadata": {},
   "source": [
    "# Calculate missingness"
   ]
  },
  {
   "cell_type": "code",
   "execution_count": null,
   "metadata": {},
   "outputs": [],
   "source": [
    "# Calculate missingness percentage accross whole dataset\n",
    "missing_percentage = sepsis_cohort_features.isnull().mean() * 100\n",
    "\n",
    "# Create a new DataFrame with missingness percentage for each feature\n",
    "missing_info = pd.DataFrame(\n",
    "    {\n",
    "        \"Feature\": missing_percentage.index,\n",
    "        \"MissingPercentage\": missing_percentage.values,\n",
    "    }\n",
    ")\n",
    "print(missing_info)"
   ]
  },
  {
   "cell_type": "markdown",
   "metadata": {},
   "source": [
    "# Visualize clinical concepts value distribution"
   ]
  },
  {
   "cell_type": "code",
   "execution_count": null,
   "metadata": {},
   "outputs": [],
   "source": [
    "categorical_features = sepsis_cohort_features.select_dtypes(\n",
    "    include=[\"object\", \"category\"]\n",
    ").columns\n",
    "categorical_features"
   ]
  },
  {
   "cell_type": "code",
   "execution_count": null,
   "metadata": {},
   "outputs": [],
   "source": [
    "# Set the number of rows and columns for subplots\n",
    "num_features = len(sepsis_cohort_features.columns)\n",
    "num_cols = min(num_features, 5)\n",
    "num_rows = -(-num_features // num_cols)\n",
    "\n",
    "# Create subplots\n",
    "fig, axes = plt.subplots(num_rows, num_cols, figsize=(5 * num_cols, 5 * num_rows))\n",
    "fig.tight_layout(pad=4.0)\n",
    "\n",
    "# Loop through each feature and create boxplots\n",
    "for i, feature in enumerate(sepsis_cohort_features.columns):\n",
    "    if feature == \"hospitalid\":\n",
    "        continue\n",
    "    \n",
    "    row_index = i // num_cols\n",
    "    col_index = i % num_cols\n",
    "\n",
    "    # Specify the axis for the current subplot\n",
    "    ax = axes[row_index, col_index] if num_rows > 1 else axes[col_index]\n",
    "\n",
    "    # Subset data for the current feature\n",
    "    feature_data = sepsis_cohort_features.loc[:, [feature, \"hospitalid\"]]\n",
    "\n",
    "    if feature in categorical_features:\n",
    "        sns.countplot(x=feature, hue=\"hospitalid\", data=feature_data, ax=ax)\n",
    "        ax.set_title(\n",
    "            f\"{feature} - Missing (accross whole dataset): {missing_percentage[feature]:.2f}%\"\n",
    "        )\n",
    "        ax.set_xlabel(feature)\n",
    "        # plt.legend(title='Hospital ID', bbox_to_anchor=(1, 1))\n",
    "    else:\n",
    "        sns.boxplot(x=\"hospitalid\", y=feature, data=feature_data, ax=ax)\n",
    "        ax.set_title(\n",
    "            f\"{feature} - Missing (accross whole dataset): {missing_percentage[feature]:.2f}%\"\n",
    "        )\n",
    "        ax.set_xlabel(\"Hospital ID\")\n",
    "        ax.set_ylabel(feature)\n"
   ]
  }
 ],
 "metadata": {
  "kernelspec": {
   "display_name": "Python 3 (ipykernel)",
   "language": "python",
   "name": "python3"
  },
  "language_info": {
   "codemirror_mode": {
    "name": "ipython",
    "version": 3
   },
   "file_extension": ".py",
   "mimetype": "text/x-python",
   "name": "python",
   "nbconvert_exporter": "python",
   "pygments_lexer": "ipython3",
   "version": "3.10.13"
  }
 },
 "nbformat": 4,
 "nbformat_minor": 4
}
