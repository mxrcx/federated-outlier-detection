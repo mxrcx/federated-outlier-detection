{
 "cells": [
  {
   "cell_type": "markdown",
   "metadata": {},
   "source": [
    "# NB 5 - Preprocessing / Feature Extraction"
   ]
  },
  {
   "cell_type": "code",
   "execution_count": null,
   "metadata": {},
   "outputs": [],
   "source": [
    "import os\n",
    "\n",
    "import pandas as pd\n",
    "from pyarrow import parquet as pq\n",
    "\n",
    "import recipys.recipe, recipys.ingredients, recipys.step, recipys.selector"
   ]
  },
  {
   "cell_type": "markdown",
   "metadata": {},
   "source": [
    "# Initial configuration"
   ]
  },
  {
   "cell_type": "markdown",
   "metadata": {},
   "source": [
    "This notebook assumes that the `combined.parquet` cohort data file is available in `data/interim/combined.parquet`."
   ]
  },
  {
   "cell_type": "code",
   "execution_count": null,
   "metadata": {},
   "outputs": [],
   "source": [
    "path_to_data = \"../data/interim\""
   ]
  },
  {
   "cell_type": "markdown",
   "metadata": {},
   "source": [
    "# Load data"
   ]
  },
  {
   "cell_type": "code",
   "execution_count": null,
   "metadata": {},
   "outputs": [],
   "source": [
    "eICU_cohort_data = pq.read_table(os.path.join(path_to_data, \"combined.parquet\")).to_pandas()"
   ]
  },
  {
   "cell_type": "code",
   "execution_count": null,
   "metadata": {},
   "outputs": [],
   "source": [
    "eICU_cohort_data"
   ]
  },
  {
   "cell_type": "markdown",
   "metadata": {},
   "source": [
    "# Get historical mean, max, min and var as features"
   ]
  },
  {
   "cell_type": "code",
   "execution_count": null,
   "metadata": {},
   "outputs": [],
   "source": [
    "sepsis_recipe = recipys.recipe.Recipe(data=eICU_cohort_data, predictors=eICU_cohort_data.drop(columns=['stay_id', 'time']).columns.tolist())\n",
    "#sepsis_recipe = recipys.recipe.Recipe(data=eICU_cohort_data, predictors=['resp', 'sbp'])\n",
    "print(sepsis_recipe)"
   ]
  },
  {
   "cell_type": "code",
   "execution_count": null,
   "metadata": {},
   "outputs": [],
   "source": [
    "sepsis_step_to_add = recipys.step.StepHistorical(sel=recipys.selector.all_numeric_predictors(), fun=recipys.step.Accumulator.MEAN)\n",
    "sepsis_recipe.add_step(sepsis_step_to_add)\n",
    "\n",
    "sepsis_step_to_add = recipys.step.StepHistorical(sel=recipys.selector.all_numeric_predictors(), fun=recipys.step.Accumulator.MAX)\n",
    "sepsis_recipe.add_step(sepsis_step_to_add)\n",
    "\n",
    "sepsis_step_to_add = recipys.step.StepHistorical(sel=recipys.selector.all_numeric_predictors(), fun=recipys.step.Accumulator.MIN)\n",
    "sepsis_recipe.add_step(sepsis_step_to_add)\n",
    "\n",
    "sepsis_step_to_add = recipys.step.StepHistorical(sel=recipys.selector.all_numeric_predictors(), fun=recipys.step.Accumulator.VAR)\n",
    "sepsis_recipe.add_step(sepsis_step_to_add)"
   ]
  },
  {
   "cell_type": "code",
   "execution_count": null,
   "metadata": {},
   "outputs": [],
   "source": [
    "sepsis_recipe.bake()"
   ]
  },
  {
   "cell_type": "markdown",
   "metadata": {},
   "source": [
    "# Delete all clinical concepts and only keep features"
   ]
  },
  {
   "cell_type": "code",
   "execution_count": null,
   "metadata": {},
   "outputs": [],
   "source": [
    "columns_to_keep = ['stay_id', 'time', 'hospitalid', 'uniquepid'] + eICU_cohort_data.filter(regex='_mean$|_max$|_min$|_var$').columns.tolist()"
   ]
  },
  {
   "cell_type": "code",
   "execution_count": null,
   "metadata": {},
   "outputs": [],
   "source": [
    "feature_data = eICU_cohort_data[columns_to_keep]"
   ]
  },
  {
   "cell_type": "markdown",
   "metadata": {},
   "source": [
    "# Save feature data to parquet file"
   ]
  },
  {
   "cell_type": "code",
   "execution_count": null,
   "metadata": {},
   "outputs": [],
   "source": [
    "feature_data.to_parquet(os.path.join(path_to_data, \"features.parquet\"))"
   ]
  }
 ],
 "metadata": {
  "kernelspec": {
   "display_name": "fedout-det",
   "language": "python",
   "name": "python3"
  },
  "language_info": {
   "codemirror_mode": {
    "name": "ipython",
    "version": 3
   },
   "file_extension": ".py",
   "mimetype": "text/x-python",
   "name": "python",
   "nbconvert_exporter": "python",
   "pygments_lexer": "ipython3",
   "version": "3.10.13"
  }
 },
 "nbformat": 4,
 "nbformat_minor": 2
}
