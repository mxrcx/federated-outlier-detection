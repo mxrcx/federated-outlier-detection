{
 "cells": [
  {
   "cell_type": "markdown",
   "metadata": {},
   "source": [
    "# Explore feature distribution & missingness"
   ]
  },
  {
   "cell_type": "code",
   "execution_count": null,
   "metadata": {},
   "outputs": [],
   "source": [
    "import os\n",
    "\n",
    "import pandas as pd\n",
    "from pyarrow import parquet as pq\n",
    "\n",
    "import matplotlib.pyplot as plt\n",
    "import seaborn as sns\n",
    "\n",
    "import resource\n",
    "resource.setrlimit(resource.RLIMIT_AS, (4000000000000000000, resource.RLIM_INFINITY))"
   ]
  },
  {
   "cell_type": "markdown",
   "metadata": {},
   "source": [
    "# Initial configuration"
   ]
  },
  {
   "cell_type": "markdown",
   "metadata": {},
   "source": [
    "This notebook assumes that the raw eICU `.csv` files are available in the `data/raw/eICU` directory and that the cohort `.parquet` files are available in `data/cohorts/sepsis_eicu_extended`."
   ]
  },
  {
   "cell_type": "code",
   "execution_count": null,
   "metadata": {},
   "outputs": [],
   "source": [
    "path_to_cohorts = \"../data/cohorts/sepsis_eicu_extended\""
   ]
  },
  {
   "cell_type": "markdown",
   "metadata": {},
   "source": [
    "# Load cohort data"
   ]
  },
  {
   "cell_type": "code",
   "execution_count": null,
   "metadata": {},
   "outputs": [],
   "source": [
    "eICU_cohort_static_data = pq.read_table(os.path.join(path_to_cohorts, \"sta.parquet\")).to_pandas()\n",
    "eICU_cohort_dynamic_data = pq.read_table(os.path.join(path_to_cohorts, \"dyn.parquet\")).to_pandas()\n",
    "eICU_cohort_outcome_data = pq.read_table(os.path.join(path_to_cohorts, \"outc.parquet\")).to_pandas()"
   ]
  },
  {
   "cell_type": "markdown",
   "metadata": {},
   "source": [
    "# Calculate missingness"
   ]
  },
  {
   "cell_type": "code",
   "execution_count": null,
   "metadata": {},
   "outputs": [],
   "source": [
    "# Calculate missingness percentage accross whole dataset\n",
    "missing_percentage_static_data = eICU_cohort_static_data.isnull().mean() * 100\n",
    "missing_percentage_dynamic_data = eICU_cohort_dynamic_data.isnull().mean() * 100\n",
    "missing_percentage_outcome_data = eICU_cohort_outcome_data.isnull().mean() * 100\n",
    "print(missing_percentage_static_data)\n",
    "\n",
    "# Create a new DataFrame with missingness percentage for each feature\n",
    "missing_info_static = pd.DataFrame(\n",
    "    {\n",
    "        \"Static Feature\": missing_percentage_static_data.index,\n",
    "        \"MissingPercentage\": missing_percentage_static_data.values,\n",
    "    }\n",
    ")\n",
    "print(missing_info_static)\n",
    "missing_info_dynamic = pd.DataFrame(\n",
    "    {\n",
    "        \"Dynamic Feature\": missing_percentage_dynamic_data.index,\n",
    "        \"MissingPercentage\": missing_percentage_dynamic_data.values,\n",
    "    }\n",
    ")\n",
    "print(missing_info_dynamic)\n",
    "missing_info_outcome = pd.DataFrame(\n",
    "    {\n",
    "        \"Outcome Feature\": missing_percentage_outcome_data.index,\n",
    "        \"MissingPercentage\": missing_percentage_outcome_data.values, \n",
    "    }\n",
    ")\n",
    "print(missing_info_outcome)"
   ]
  },
  {
   "cell_type": "code",
   "execution_count": null,
   "metadata": {},
   "outputs": [],
   "source": [
    "# Combine into one DataFrame\n",
    "combined_missing_percentage = pd.concat([\n",
    "    missing_percentage_static_data,\n",
    "    missing_percentage_dynamic_data,\n",
    "    missing_percentage_outcome_data\n",
    "])\n",
    "combined_missing_percentage"
   ]
  },
  {
   "cell_type": "markdown",
   "metadata": {},
   "source": [
    "# Visuazlize feature distribution"
   ]
  },
  {
   "cell_type": "markdown",
   "metadata": {},
   "source": [
    "1. Combine data"
   ]
  },
  {
   "cell_type": "code",
   "execution_count": null,
   "metadata": {},
   "outputs": [],
   "source": [
    "eICU_cohort_static_and_dynamic_data = pd.merge(eICU_cohort_dynamic_data, eICU_cohort_static_data, on='stay_id', how='left')\n",
    "eICU_cohort_complete_data = pd.merge(eICU_cohort_static_and_dynamic_data, eICU_cohort_outcome_data, on='stay_id', how='left')"
   ]
  },
  {
   "cell_type": "code",
   "execution_count": null,
   "metadata": {},
   "outputs": [],
   "source": [
    "eICU_cohort_static_data.shape\n",
    "eICU_cohort_dynamic_data.shape\n",
    "eICU_cohort_outcome_data.shape\n",
    "eICU_cohort_complete_data.shape"
   ]
  },
  {
   "cell_type": "code",
   "execution_count": null,
   "metadata": {},
   "outputs": [],
   "source": [
    "categorical_features = eICU_cohort_complete_data.select_dtypes(\n",
    "    include=[\"object\", \"category\"]\n",
    ").columns\n",
    "categorical_features"
   ]
  },
  {
   "cell_type": "code",
   "execution_count": null,
   "metadata": {},
   "outputs": [],
   "source": [
    "# Set the number of rows and columns for subplots\n",
    "num_features = len(eICU_cohort_complete_data.columns)\n",
    "num_cols = min(num_features, 5)\n",
    "num_rows = -(-num_features // num_cols)\n",
    "\n",
    "# Create subplots\n",
    "fig, axes = plt.subplots(num_rows, num_cols, figsize=(5 * num_cols, 5 * num_rows))\n",
    "fig.tight_layout(pad=4.0)\n",
    "\n",
    "# Loop through each feature and create boxplots\n",
    "for i, feature in enumerate(eICU_cohort_complete_data.columns):\n",
    "    print(feature)\n",
    "    if feature == \"hospitalid\":\n",
    "        continue\n",
    "    \n",
    "    row_index = i // num_cols\n",
    "    col_index = i % num_cols\n",
    "\n",
    "    # Specify the axis for the current subplot\n",
    "    ax = axes[row_index, col_index] if num_rows > 1 else axes[col_index]\n",
    "\n",
    "    # Subset data for the current feature\n",
    "    feature_data = eICU_cohort_static_data.loc[:, [feature, \"hospitalid\"]]\n",
    "\n",
    "    if feature in categorical_features:\n",
    "        sns.countplot(x=feature, hue=\"hospitalid\", data=feature_data, ax=ax)\n",
    "        ax.set_title(\n",
    "            f\"{feature} - Missing (accross whole dataset): {combined_missing_percentage[feature]:.2f}%\"\n",
    "        )\n",
    "        ax.set_xlabel(feature)\n",
    "        # plt.legend(title='Hospital ID', bbox_to_anchor=(1, 1))\n",
    "    else:\n",
    "        sns.boxplot(x=\"hospitalid\", y=feature, data=feature_data, ax=ax)\n",
    "        ax.set_title(\n",
    "            f\"{feature} - Missing (accross whole dataset): {combined_missing_percentage[feature]:.2f}%\"\n",
    "        )\n",
    "        ax.set_xlabel(\"Hospital ID\")\n",
    "        ax.set_ylabel(feature)\n"
   ]
  }
 ],
 "metadata": {
  "kernelspec": {
   "display_name": "fedout-det",
   "language": "python",
   "name": "python3"
  },
  "language_info": {
   "codemirror_mode": {
    "name": "ipython",
    "version": 3
   },
   "file_extension": ".py",
   "mimetype": "text/x-python",
   "name": "python",
   "nbconvert_exporter": "python",
   "pygments_lexer": "ipython3",
   "version": "3.10.13"
  }
 },
 "nbformat": 4,
 "nbformat_minor": 2
}
